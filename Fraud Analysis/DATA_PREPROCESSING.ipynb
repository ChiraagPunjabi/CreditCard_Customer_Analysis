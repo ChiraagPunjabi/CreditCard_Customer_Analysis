{
 "cells": [
  {
   "cell_type": "code",
   "execution_count": 39,
   "id": "318e854f",
   "metadata": {},
   "outputs": [],
   "source": [
    "import pandas as pd\n",
    "from sklearn.model_selection import train_test_split\n",
    "from sklearn.preprocessing import StandardScaler\n",
    "from sklearn.linear_model import LogisticRegression\n",
    "from sklearn.metrics import classification_report, confusion_matrix, roc_curve, auc\n",
    "import matplotlib.pyplot as plt\n",
    "import joblib\n",
    "from scipy.stats import chi2_contingency\n",
    "import numpy as np"
   ]
  },
  {
   "cell_type": "code",
   "execution_count": 40,
   "id": "b5fdff63",
   "metadata": {},
   "outputs": [
    {
     "name": "stdout",
     "output_type": "stream",
     "text": [
      "<class 'pandas.core.frame.DataFrame'>\n",
      "RangeIndex: 781207 entries, 0 to 781206\n",
      "Data columns (total 24 columns):\n",
      " #   Column                    Non-Null Count   Dtype  \n",
      "---  ------                    --------------   -----  \n",
      " 0   Unnamed: 0                781207 non-null  int64  \n",
      " 1   accountNumber             781207 non-null  int64  \n",
      " 2   customerId                781207 non-null  int64  \n",
      " 3   creditLimit               781207 non-null  float64\n",
      " 4   availableMoney            781207 non-null  float64\n",
      " 5   transactionDateTime       781207 non-null  object \n",
      " 6   transactionAmount         781207 non-null  float64\n",
      " 7   merchantName              781207 non-null  object \n",
      " 8   acqCountry                781207 non-null  object \n",
      " 9   merchantCountryCode       781207 non-null  object \n",
      " 10  posEntryMode              781207 non-null  int64  \n",
      " 11  posConditionCode          781207 non-null  int64  \n",
      " 12  merchantCategoryCode      781207 non-null  object \n",
      " 13  currentExpDate            781207 non-null  object \n",
      " 14  accountOpenDate           781207 non-null  object \n",
      " 15  dateOfLastAddressChange   781207 non-null  object \n",
      " 16  cardCVV                   781207 non-null  int64  \n",
      " 17  enteredCVV                781207 non-null  int64  \n",
      " 18  cardLast4Digits           781207 non-null  int64  \n",
      " 19  transactionType           781207 non-null  object \n",
      " 20  currentBalance            781207 non-null  float64\n",
      " 21  cardPresent               781207 non-null  bool   \n",
      " 22  expirationDateKeyInMatch  781207 non-null  bool   \n",
      " 23  isFraud                   781207 non-null  bool   \n",
      "dtypes: bool(3), float64(4), int64(8), object(9)\n",
      "memory usage: 127.4+ MB\n"
     ]
    }
   ],
   "source": [
    "data = pd.read_csv('transaction_data_updated.csv')\n",
    "data.info()"
   ]
  },
  {
   "cell_type": "code",
   "execution_count": 41,
   "id": "6d814615",
   "metadata": {},
   "outputs": [],
   "source": [
    "data.dropna(axis=0, inplace=True)"
   ]
  },
  {
   "cell_type": "code",
   "execution_count": 42,
   "id": "bbf3aa6f",
   "metadata": {},
   "outputs": [],
   "source": [
    "target_column = 'isFraud'"
   ]
  },
  {
   "cell_type": "code",
   "execution_count": 43,
   "id": "f73101d2",
   "metadata": {},
   "outputs": [],
   "source": [
    "categorical_columns = data.select_dtypes(include=['object']).columns\n",
    "# Calculate associations using Cramér's V\n",
    "associations = {}\n",
    "for column in categorical_columns:\n",
    "    contingency_table = pd.crosstab(data[column], data[target_column])\n",
    "    chi2, _, _, _ = chi2_contingency(contingency_table)\n",
    "    n = contingency_table.sum().sum()\n",
    "    phi2 = chi2 / n\n",
    "    min_dim = min(contingency_table.shape) - 1\n",
    "    associations[column] = np.sqrt(phi2 / min_dim)"
   ]
  },
  {
   "cell_type": "code",
   "execution_count": 44,
   "id": "dc27b585",
   "metadata": {},
   "outputs": [],
   "source": [
    "association_threshold = 0.1\n",
    "# Drop columns with associations below the threshold\n",
    "columns_to_drop = [col for col, association in associations.items() if association < association_threshold]\n",
    "data.drop(columns=columns_to_drop, inplace=True)"
   ]
  },
  {
   "cell_type": "code",
   "execution_count": 45,
   "id": "158cf5fd",
   "metadata": {},
   "outputs": [],
   "source": [
    "# Select numeric columns\n",
    "numeric_columns = data.select_dtypes(include=['int', 'float']).columns\n",
    "\n",
    "# Calculate correlations for numeric variables\n",
    "correlations = data[numeric_columns].corrwith(data[target_column])\n",
    "\n",
    "# Define the correlation threshold\n",
    "correlation_threshold = 0.005"
   ]
  },
  {
   "cell_type": "code",
   "execution_count": 46,
   "id": "7b3cae1c",
   "metadata": {},
   "outputs": [],
   "source": [
    "columns_to_drop = [col for col, correlation in correlations.items() if abs(correlation) < correlation_threshold]\n",
    "data.drop(columns=columns_to_drop, inplace=True)"
   ]
  },
  {
   "cell_type": "code",
   "execution_count": 47,
   "id": "69d822b1",
   "metadata": {},
   "outputs": [],
   "source": [
    "boolean_columns = data.select_dtypes(include=['bool']).columns\n",
    "data[boolean_columns] = data[boolean_columns].astype(np.int64)"
   ]
  },
  {
   "cell_type": "code",
   "execution_count": 48,
   "id": "cc345179",
   "metadata": {},
   "outputs": [],
   "source": [
    "columns = data.columns\n",
    "same_values_found = False"
   ]
  },
  {
   "cell_type": "code",
   "execution_count": 49,
   "id": "264ed181",
   "metadata": {},
   "outputs": [],
   "source": [
    "for i in range(len(columns)):\n",
    "    for j in range(i + 1, len(columns)):\n",
    "        if (data[columns[i]] == data[columns[j]]).all():\n",
    "            same_values_found = True\n",
    "            data.drop(columns=[columns[j]], inplace=True)"
   ]
  },
  {
   "cell_type": "code",
   "execution_count": 50,
   "id": "0acbb68b",
   "metadata": {},
   "outputs": [
    {
     "name": "stdout",
     "output_type": "stream",
     "text": [
      "<class 'pandas.core.frame.DataFrame'>\n",
      "RangeIndex: 781207 entries, 0 to 781206\n",
      "Data columns (total 13 columns):\n",
      " #   Column                    Non-Null Count   Dtype  \n",
      "---  ------                    --------------   -----  \n",
      " 0   transactionDateTime       781207 non-null  object \n",
      " 1   transactionAmount         781207 non-null  float64\n",
      " 2   merchantName              781207 non-null  object \n",
      " 3   posEntryMode              781207 non-null  int64  \n",
      " 4   posConditionCode          781207 non-null  int64  \n",
      " 5   accountOpenDate           781207 non-null  object \n",
      " 6   dateOfLastAddressChange   781207 non-null  object \n",
      " 7   cardCVV                   781207 non-null  int64  \n",
      " 8   enteredCVV                781207 non-null  int64  \n",
      " 9   currentBalance            781207 non-null  float64\n",
      " 10  cardPresent               781207 non-null  int64  \n",
      " 11  expirationDateKeyInMatch  781207 non-null  int64  \n",
      " 12  isFraud                   781207 non-null  int64  \n",
      "dtypes: float64(2), int64(7), object(4)\n",
      "memory usage: 77.5+ MB\n"
     ]
    }
   ],
   "source": [
    "data.info()"
   ]
  },
  {
   "cell_type": "code",
   "execution_count": 51,
   "id": "8f861ec8",
   "metadata": {},
   "outputs": [],
   "source": [
    "data.to_csv('semi-treated_data.csv', index=False)"
   ]
  },
  {
   "cell_type": "code",
   "execution_count": 52,
   "id": "fe55b365",
   "metadata": {},
   "outputs": [
    {
     "name": "stdout",
     "output_type": "stream",
     "text": [
      "<class 'pandas.core.frame.DataFrame'>\n",
      "RangeIndex: 781207 entries, 0 to 781206\n",
      "Data columns (total 13 columns):\n",
      " #   Column                    Non-Null Count   Dtype  \n",
      "---  ------                    --------------   -----  \n",
      " 0   transactionDateTime       781207 non-null  int64  \n",
      " 1   transactionAmount         781207 non-null  float64\n",
      " 2   merchantName              781207 non-null  object \n",
      " 3   posEntryMode              781207 non-null  int64  \n",
      " 4   posConditionCode          781207 non-null  int64  \n",
      " 5   accountOpenDate           781207 non-null  int64  \n",
      " 6   dateOfLastAddressChange   781207 non-null  int64  \n",
      " 7   cardCVV                   781207 non-null  int64  \n",
      " 8   enteredCVV                781207 non-null  int64  \n",
      " 9   currentBalance            781207 non-null  float64\n",
      " 10  cardPresent               781207 non-null  int64  \n",
      " 11  expirationDateKeyInMatch  781207 non-null  int64  \n",
      " 12  isFraud                   781207 non-null  int64  \n",
      "dtypes: float64(2), int64(10), object(1)\n",
      "memory usage: 77.5+ MB\n"
     ]
    }
   ],
   "source": [
    "# Specify the ISO 8601 datetime format\n",
    "iso_format = \"%Y-%m-%dT%H:%M:%S\"\n",
    "\n",
    "# Find columns containing the ISO 8601 format\n",
    "iso_columns = data.select_dtypes(include=['object']).apply(\n",
    "    lambda x: pd.to_datetime(x, format=iso_format, errors='coerce').notnull().all()\n",
    ")\n",
    "\n",
    "# Convert the ISO 8601 columns to Unix timestamps\n",
    "for col in iso_columns[iso_columns].index:\n",
    "    data[col] = pd.to_datetime(data[col], format=iso_format)\n",
    "    data[col + '_unix'] = (data[col] - pd.Timestamp(\"1970-01-01\")) // pd.Timedelta('1s')\n",
    "    data[col] = data[col + '_unix']\n",
    "    data.drop(columns=[col + '_unix'], inplace=True)\n",
    "\n",
    "data.info()"
   ]
  },
  {
   "cell_type": "code",
   "execution_count": 53,
   "id": "6d8c6021",
   "metadata": {},
   "outputs": [],
   "source": [
    "from sklearn.preprocessing import LabelEncoder\n",
    "# Initialize LabelEncoder\n",
    "label_encoder = LabelEncoder()\n",
    "data['merchantName'] = label_encoder.fit_transform(data['merchantName'])"
   ]
  },
  {
   "cell_type": "code",
   "execution_count": 54,
   "id": "3f78c351",
   "metadata": {},
   "outputs": [
    {
     "data": {
      "text/html": [
       "<div>\n",
       "<style scoped>\n",
       "    .dataframe tbody tr th:only-of-type {\n",
       "        vertical-align: middle;\n",
       "    }\n",
       "\n",
       "    .dataframe tbody tr th {\n",
       "        vertical-align: top;\n",
       "    }\n",
       "\n",
       "    .dataframe thead th {\n",
       "        text-align: right;\n",
       "    }\n",
       "</style>\n",
       "<table border=\"1\" class=\"dataframe\">\n",
       "  <thead>\n",
       "    <tr style=\"text-align: right;\">\n",
       "      <th></th>\n",
       "      <th>transactionDateTime</th>\n",
       "      <th>transactionAmount</th>\n",
       "      <th>merchantName</th>\n",
       "      <th>posEntryMode</th>\n",
       "      <th>posConditionCode</th>\n",
       "      <th>accountOpenDate</th>\n",
       "      <th>dateOfLastAddressChange</th>\n",
       "      <th>cardCVV</th>\n",
       "      <th>enteredCVV</th>\n",
       "      <th>currentBalance</th>\n",
       "      <th>cardPresent</th>\n",
       "      <th>expirationDateKeyInMatch</th>\n",
       "      <th>isFraud</th>\n",
       "    </tr>\n",
       "  </thead>\n",
       "  <tbody>\n",
       "    <tr>\n",
       "      <th>0</th>\n",
       "      <td>1471098452</td>\n",
       "      <td>98.55</td>\n",
       "      <td>2085</td>\n",
       "      <td>2</td>\n",
       "      <td>1</td>\n",
       "      <td>1426291200</td>\n",
       "      <td>1426291200</td>\n",
       "      <td>414</td>\n",
       "      <td>414</td>\n",
       "      <td>0.0</td>\n",
       "      <td>0</td>\n",
       "      <td>0</td>\n",
       "      <td>0</td>\n",
       "    </tr>\n",
       "    <tr>\n",
       "      <th>1</th>\n",
       "      <td>1476162354</td>\n",
       "      <td>74.51</td>\n",
       "      <td>27</td>\n",
       "      <td>9</td>\n",
       "      <td>1</td>\n",
       "      <td>1426291200</td>\n",
       "      <td>1426291200</td>\n",
       "      <td>486</td>\n",
       "      <td>486</td>\n",
       "      <td>0.0</td>\n",
       "      <td>1</td>\n",
       "      <td>0</td>\n",
       "      <td>0</td>\n",
       "    </tr>\n",
       "    <tr>\n",
       "      <th>2</th>\n",
       "      <td>1478596719</td>\n",
       "      <td>7.47</td>\n",
       "      <td>1304</td>\n",
       "      <td>9</td>\n",
       "      <td>1</td>\n",
       "      <td>1426291200</td>\n",
       "      <td>1426291200</td>\n",
       "      <td>486</td>\n",
       "      <td>486</td>\n",
       "      <td>0.0</td>\n",
       "      <td>0</td>\n",
       "      <td>0</td>\n",
       "      <td>0</td>\n",
       "    </tr>\n",
       "    <tr>\n",
       "      <th>3</th>\n",
       "      <td>1481336090</td>\n",
       "      <td>7.47</td>\n",
       "      <td>1304</td>\n",
       "      <td>9</td>\n",
       "      <td>1</td>\n",
       "      <td>1426291200</td>\n",
       "      <td>1426291200</td>\n",
       "      <td>486</td>\n",
       "      <td>486</td>\n",
       "      <td>0.0</td>\n",
       "      <td>0</td>\n",
       "      <td>0</td>\n",
       "      <td>0</td>\n",
       "    </tr>\n",
       "    <tr>\n",
       "      <th>4</th>\n",
       "      <td>1458853486</td>\n",
       "      <td>71.18</td>\n",
       "      <td>2083</td>\n",
       "      <td>2</td>\n",
       "      <td>1</td>\n",
       "      <td>1438819200</td>\n",
       "      <td>1438819200</td>\n",
       "      <td>885</td>\n",
       "      <td>885</td>\n",
       "      <td>0.0</td>\n",
       "      <td>1</td>\n",
       "      <td>0</td>\n",
       "      <td>0</td>\n",
       "    </tr>\n",
       "  </tbody>\n",
       "</table>\n",
       "</div>"
      ],
      "text/plain": [
       "   transactionDateTime  transactionAmount  merchantName  posEntryMode  \\\n",
       "0           1471098452              98.55          2085             2   \n",
       "1           1476162354              74.51            27             9   \n",
       "2           1478596719               7.47          1304             9   \n",
       "3           1481336090               7.47          1304             9   \n",
       "4           1458853486              71.18          2083             2   \n",
       "\n",
       "   posConditionCode  accountOpenDate  dateOfLastAddressChange  cardCVV  \\\n",
       "0                 1       1426291200               1426291200      414   \n",
       "1                 1       1426291200               1426291200      486   \n",
       "2                 1       1426291200               1426291200      486   \n",
       "3                 1       1426291200               1426291200      486   \n",
       "4                 1       1438819200               1438819200      885   \n",
       "\n",
       "   enteredCVV  currentBalance  cardPresent  expirationDateKeyInMatch  isFraud  \n",
       "0         414             0.0            0                         0        0  \n",
       "1         486             0.0            1                         0        0  \n",
       "2         486             0.0            0                         0        0  \n",
       "3         486             0.0            0                         0        0  \n",
       "4         885             0.0            1                         0        0  "
      ]
     },
     "execution_count": 54,
     "metadata": {},
     "output_type": "execute_result"
    }
   ],
   "source": [
    "data.head()"
   ]
  },
  {
   "cell_type": "code",
   "execution_count": 55,
   "id": "7c66ba77",
   "metadata": {},
   "outputs": [],
   "source": [
    "data.to_csv('fully-treated_data.csv', index=False)"
   ]
  },
  {
   "cell_type": "code",
   "execution_count": null,
   "id": "4004f523",
   "metadata": {},
   "outputs": [],
   "source": []
  }
 ],
 "metadata": {
  "kernelspec": {
   "display_name": "Python 3 (ipykernel)",
   "language": "python",
   "name": "python3"
  },
  "language_info": {
   "codemirror_mode": {
    "name": "ipython",
    "version": 3
   },
   "file_extension": ".py",
   "mimetype": "text/x-python",
   "name": "python",
   "nbconvert_exporter": "python",
   "pygments_lexer": "ipython3",
   "version": "3.9.13"
  }
 },
 "nbformat": 4,
 "nbformat_minor": 5
}
